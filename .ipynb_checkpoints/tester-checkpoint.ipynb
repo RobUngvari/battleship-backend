{
 "cells": [
  {
   "cell_type": "code",
   "execution_count": 26,
   "id": "f8dc070f",
   "metadata": {},
   "outputs": [],
   "source": [
    "import requests\n",
    "import json"
   ]
  },
  {
   "cell_type": "code",
   "execution_count": 33,
   "id": "4702cf6d",
   "metadata": {},
   "outputs": [],
   "source": [
    "url = 'http://localhost:4000/graphql'"
   ]
  },
  {
   "cell_type": "code",
   "execution_count": 34,
   "id": "1e7d7075",
   "metadata": {},
   "outputs": [],
   "source": [
    "# Define the GraphQL query\n",
    "query = \"\"\"\n",
    "    query{\n",
    "      games {\n",
    "        id,\n",
    "            players{id, host},    \n",
    "\n",
    "      }\n",
    "    }\n",
    "\"\"\""
   ]
  },
  {
   "cell_type": "code",
   "execution_count": 35,
   "id": "f3f70333",
   "metadata": {},
   "outputs": [],
   "source": [
    "# headers = {\n",
    "#     \"Content-Type\": \"application/json\",\n",
    "#     \"Authorization\": \"Bearer your_token_here\"\n",
    "# }"
   ]
  },
  {
   "cell_type": "code",
   "execution_count": 36,
   "id": "cc2235d6",
   "metadata": {},
   "outputs": [],
   "source": [
    "# Define the headers for the request\n",
    "headers = {\"Content-Type\": \"application/json\"}"
   ]
  },
  {
   "cell_type": "code",
   "execution_count": 37,
   "id": "937b1ab1",
   "metadata": {},
   "outputs": [],
   "source": [
    "# Define the data you'll send with the request\n",
    "data = {\"query\": query}"
   ]
  },
  {
   "cell_type": "code",
   "execution_count": 38,
   "id": "f7b5c3b0",
   "metadata": {},
   "outputs": [],
   "source": [
    "# Send the request\n",
    "response = requests.post(url, headers=headers, json=data)"
   ]
  },
  {
   "cell_type": "code",
   "execution_count": 39,
   "id": "16e1654b",
   "metadata": {},
   "outputs": [
    {
     "name": "stdout",
     "output_type": "stream",
     "text": [
      "{'data': {'games': [{'id': '1', 'players': [{'id': '1', 'host': True}, {'id': '2', 'host': False}]}, {'id': '12', 'players': [{'id': '23', 'host': True}, {'id': '24', 'host': False}]}]}}\n"
     ]
    }
   ],
   "source": [
    "# Parse the response as JSON\n",
    "json_data = json.loads(response.text)\n",
    "\n",
    "# Print the data\n",
    "print(json_data)"
   ]
  },
  {
   "cell_type": "code",
   "execution_count": null,
   "id": "40508068",
   "metadata": {},
   "outputs": [],
   "source": []
  },
  {
   "cell_type": "code",
   "execution_count": null,
   "id": "fd9d7c82",
   "metadata": {},
   "outputs": [],
   "source": []
  }
 ],
 "metadata": {
  "kernelspec": {
   "display_name": "Python 3",
   "language": "python",
   "name": "python3"
  },
  "language_info": {
   "codemirror_mode": {
    "name": "ipython",
    "version": 3
   },
   "file_extension": ".py",
   "mimetype": "text/x-python",
   "name": "python",
   "nbconvert_exporter": "python",
   "pygments_lexer": "ipython3",
   "version": "3.8.8"
  }
 },
 "nbformat": 4,
 "nbformat_minor": 5
}
